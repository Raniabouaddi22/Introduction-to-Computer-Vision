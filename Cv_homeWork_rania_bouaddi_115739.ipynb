{
 "cells": [
  {
   "cell_type": "markdown",
   "id": "1befb1f1",
   "metadata": {},
   "source": [
    "## <font color = blue>  Rania BOUADDI N115739"
   ]
  },
  {
   "cell_type": "markdown",
   "id": "857d0abc",
   "metadata": {},
   "source": [
    "# Part 1: Install Necessary Packages"
   ]
  },
  {
   "cell_type": "markdown",
   "id": "f6393dbe",
   "metadata": {},
   "source": [
    "First, I should install the required Python packages using pip if they are not already installed."
   ]
  },
  {
   "cell_type": "code",
   "execution_count": 1,
   "id": "a323fc82",
   "metadata": {},
   "outputs": [
    {
     "name": "stdout",
     "output_type": "stream",
     "text": [
      "Requirement already satisfied: tensorflow in /Users/raniabouaddi/miniconda3/lib/python3.11/site-packages (2.16.1)\n",
      "Requirement already satisfied: matplotlib in /Users/raniabouaddi/miniconda3/lib/python3.11/site-packages (3.9.0)\n",
      "Requirement already satisfied: seaborn in /Users/raniabouaddi/miniconda3/lib/python3.11/site-packages (0.13.2)\n",
      "Requirement already satisfied: scikit-learn in /Users/raniabouaddi/miniconda3/lib/python3.11/site-packages (1.5.0)\n",
      "Requirement already satisfied: absl-py>=1.0.0 in /Users/raniabouaddi/miniconda3/lib/python3.11/site-packages (from tensorflow) (2.1.0)\n",
      "Requirement already satisfied: astunparse>=1.6.0 in /Users/raniabouaddi/miniconda3/lib/python3.11/site-packages (from tensorflow) (1.6.3)\n",
      "Requirement already satisfied: flatbuffers>=23.5.26 in /Users/raniabouaddi/miniconda3/lib/python3.11/site-packages (from tensorflow) (24.3.25)\n",
      "Requirement already satisfied: gast!=0.5.0,!=0.5.1,!=0.5.2,>=0.2.1 in /Users/raniabouaddi/miniconda3/lib/python3.11/site-packages (from tensorflow) (0.5.4)\n",
      "Requirement already satisfied: google-pasta>=0.1.1 in /Users/raniabouaddi/miniconda3/lib/python3.11/site-packages (from tensorflow) (0.2.0)\n",
      "Requirement already satisfied: h5py>=3.10.0 in /Users/raniabouaddi/miniconda3/lib/python3.11/site-packages (from tensorflow) (3.11.0)\n",
      "Requirement already satisfied: libclang>=13.0.0 in /Users/raniabouaddi/miniconda3/lib/python3.11/site-packages (from tensorflow) (18.1.1)\n",
      "Requirement already satisfied: ml-dtypes~=0.3.1 in /Users/raniabouaddi/miniconda3/lib/python3.11/site-packages (from tensorflow) (0.3.2)\n",
      "Requirement already satisfied: opt-einsum>=2.3.2 in /Users/raniabouaddi/miniconda3/lib/python3.11/site-packages (from tensorflow) (3.3.0)\n",
      "Requirement already satisfied: packaging in /Users/raniabouaddi/miniconda3/lib/python3.11/site-packages (from tensorflow) (23.1)\n",
      "Requirement already satisfied: protobuf!=4.21.0,!=4.21.1,!=4.21.2,!=4.21.3,!=4.21.4,!=4.21.5,<5.0.0dev,>=3.20.3 in /Users/raniabouaddi/miniconda3/lib/python3.11/site-packages (from tensorflow) (4.25.3)\n",
      "Requirement already satisfied: requests<3,>=2.21.0 in /Users/raniabouaddi/miniconda3/lib/python3.11/site-packages (from tensorflow) (2.31.0)\n",
      "Requirement already satisfied: setuptools in /Users/raniabouaddi/miniconda3/lib/python3.11/site-packages (from tensorflow) (68.0.0)\n",
      "Requirement already satisfied: six>=1.12.0 in /Users/raniabouaddi/miniconda3/lib/python3.11/site-packages (from tensorflow) (1.16.0)\n",
      "Requirement already satisfied: termcolor>=1.1.0 in /Users/raniabouaddi/miniconda3/lib/python3.11/site-packages (from tensorflow) (2.4.0)\n",
      "Requirement already satisfied: typing-extensions>=3.6.6 in /Users/raniabouaddi/miniconda3/lib/python3.11/site-packages (from tensorflow) (4.9.0)\n",
      "Requirement already satisfied: wrapt>=1.11.0 in /Users/raniabouaddi/miniconda3/lib/python3.11/site-packages (from tensorflow) (1.16.0)\n",
      "Requirement already satisfied: grpcio<2.0,>=1.24.3 in /Users/raniabouaddi/miniconda3/lib/python3.11/site-packages (from tensorflow) (1.64.0)\n",
      "Requirement already satisfied: tensorboard<2.17,>=2.16 in /Users/raniabouaddi/miniconda3/lib/python3.11/site-packages (from tensorflow) (2.16.2)\n",
      "Requirement already satisfied: keras>=3.0.0 in /Users/raniabouaddi/miniconda3/lib/python3.11/site-packages (from tensorflow) (3.3.3)\n",
      "Requirement already satisfied: tensorflow-io-gcs-filesystem>=0.23.1 in /Users/raniabouaddi/miniconda3/lib/python3.11/site-packages (from tensorflow) (0.37.0)\n",
      "Requirement already satisfied: numpy<2.0.0,>=1.23.5 in /Users/raniabouaddi/miniconda3/lib/python3.11/site-packages (from tensorflow) (1.26.4)\n",
      "Requirement already satisfied: contourpy>=1.0.1 in /Users/raniabouaddi/miniconda3/lib/python3.11/site-packages (from matplotlib) (1.2.1)\n",
      "Requirement already satisfied: cycler>=0.10 in /Users/raniabouaddi/miniconda3/lib/python3.11/site-packages (from matplotlib) (0.12.1)\n",
      "Requirement already satisfied: fonttools>=4.22.0 in /Users/raniabouaddi/miniconda3/lib/python3.11/site-packages (from matplotlib) (4.53.0)\n",
      "Requirement already satisfied: kiwisolver>=1.3.1 in /Users/raniabouaddi/miniconda3/lib/python3.11/site-packages (from matplotlib) (1.4.5)\n",
      "Requirement already satisfied: pillow>=8 in /Users/raniabouaddi/miniconda3/lib/python3.11/site-packages (from matplotlib) (10.3.0)\n",
      "Requirement already satisfied: pyparsing>=2.3.1 in /Users/raniabouaddi/miniconda3/lib/python3.11/site-packages (from matplotlib) (3.1.2)\n",
      "Requirement already satisfied: python-dateutil>=2.7 in /Users/raniabouaddi/miniconda3/lib/python3.11/site-packages (from matplotlib) (2.9.0.post0)\n",
      "Requirement already satisfied: pandas>=1.2 in /Users/raniabouaddi/miniconda3/lib/python3.11/site-packages (from seaborn) (2.2.2)\n",
      "Requirement already satisfied: scipy>=1.6.0 in /Users/raniabouaddi/miniconda3/lib/python3.11/site-packages (from scikit-learn) (1.13.1)\n",
      "Requirement already satisfied: joblib>=1.2.0 in /Users/raniabouaddi/miniconda3/lib/python3.11/site-packages (from scikit-learn) (1.4.2)\n",
      "Requirement already satisfied: threadpoolctl>=3.1.0 in /Users/raniabouaddi/miniconda3/lib/python3.11/site-packages (from scikit-learn) (3.5.0)\n",
      "Requirement already satisfied: wheel<1.0,>=0.23.0 in /Users/raniabouaddi/miniconda3/lib/python3.11/site-packages (from astunparse>=1.6.0->tensorflow) (0.41.2)\n",
      "Requirement already satisfied: rich in /Users/raniabouaddi/miniconda3/lib/python3.11/site-packages (from keras>=3.0.0->tensorflow) (13.7.1)\n",
      "Requirement already satisfied: namex in /Users/raniabouaddi/miniconda3/lib/python3.11/site-packages (from keras>=3.0.0->tensorflow) (0.0.8)\n",
      "Requirement already satisfied: optree in /Users/raniabouaddi/miniconda3/lib/python3.11/site-packages (from keras>=3.0.0->tensorflow) (0.11.0)\n",
      "Requirement already satisfied: pytz>=2020.1 in /Users/raniabouaddi/miniconda3/lib/python3.11/site-packages (from pandas>=1.2->seaborn) (2024.1)\n",
      "Requirement already satisfied: tzdata>=2022.7 in /Users/raniabouaddi/miniconda3/lib/python3.11/site-packages (from pandas>=1.2->seaborn) (2024.1)\n",
      "Requirement already satisfied: charset-normalizer<4,>=2 in /Users/raniabouaddi/miniconda3/lib/python3.11/site-packages (from requests<3,>=2.21.0->tensorflow) (2.0.4)\n",
      "Requirement already satisfied: idna<4,>=2.5 in /Users/raniabouaddi/miniconda3/lib/python3.11/site-packages (from requests<3,>=2.21.0->tensorflow) (3.4)\n",
      "Requirement already satisfied: urllib3<3,>=1.21.1 in /Users/raniabouaddi/miniconda3/lib/python3.11/site-packages (from requests<3,>=2.21.0->tensorflow) (1.26.16)\n",
      "Requirement already satisfied: certifi>=2017.4.17 in /Users/raniabouaddi/miniconda3/lib/python3.11/site-packages (from requests<3,>=2.21.0->tensorflow) (2023.7.22)\n",
      "Requirement already satisfied: markdown>=2.6.8 in /Users/raniabouaddi/miniconda3/lib/python3.11/site-packages (from tensorboard<2.17,>=2.16->tensorflow) (3.6)\n",
      "Requirement already satisfied: tensorboard-data-server<0.8.0,>=0.7.0 in /Users/raniabouaddi/miniconda3/lib/python3.11/site-packages (from tensorboard<2.17,>=2.16->tensorflow) (0.7.2)\n",
      "Requirement already satisfied: werkzeug>=1.0.1 in /Users/raniabouaddi/miniconda3/lib/python3.11/site-packages (from tensorboard<2.17,>=2.16->tensorflow) (3.0.1)\n",
      "Requirement already satisfied: MarkupSafe>=2.1.1 in /Users/raniabouaddi/miniconda3/lib/python3.11/site-packages (from werkzeug>=1.0.1->tensorboard<2.17,>=2.16->tensorflow) (2.1.3)\n",
      "Requirement already satisfied: markdown-it-py>=2.2.0 in /Users/raniabouaddi/miniconda3/lib/python3.11/site-packages (from rich->keras>=3.0.0->tensorflow) (3.0.0)\n",
      "Requirement already satisfied: pygments<3.0.0,>=2.13.0 in /Users/raniabouaddi/miniconda3/lib/python3.11/site-packages (from rich->keras>=3.0.0->tensorflow) (2.18.0)\n",
      "Requirement already satisfied: mdurl~=0.1 in /Users/raniabouaddi/miniconda3/lib/python3.11/site-packages (from markdown-it-py>=2.2.0->rich->keras>=3.0.0->tensorflow) (0.1.2)\n"
     ]
    }
   ],
   "source": [
    "!pip install tensorflow matplotlib seaborn scikit-learn\n"
   ]
  },
  {
   "cell_type": "markdown",
   "id": "1cd14aa6",
   "metadata": {},
   "source": [
    "# Part 2: Import Libraries and Load Data"
   ]
  },
  {
   "cell_type": "code",
   "execution_count": 1,
   "id": "b7a3410c",
   "metadata": {},
   "outputs": [
    {
     "name": "stderr",
     "output_type": "stream",
     "text": [
      "Matplotlib is building the font cache; this may take a moment.\n",
      "2024-06-01 20:20:11.175073: I tensorflow/core/platform/cpu_feature_guard.cc:210] This TensorFlow binary is optimized to use available CPU instructions in performance-critical operations.\n",
      "To enable the following instructions: AVX2 FMA, in other operations, rebuild TensorFlow with the appropriate compiler flags.\n"
     ]
    },
    {
     "name": "stdout",
     "output_type": "stream",
     "text": [
      "Downloading data from https://www.cs.toronto.edu/~kriz/cifar-10-python.tar.gz\n",
      "\u001b[1m170498071/170498071\u001b[0m \u001b[32m━━━━━━━━━━━━━━━━━━━━\u001b[0m\u001b[37m\u001b[0m \u001b[1m104s\u001b[0m 1us/step\n"
     ]
    }
   ],
   "source": [
    "import numpy as np\n",
    "import matplotlib.pyplot as plt\n",
    "import seaborn as sns\n",
    "import tensorflow as tf\n",
    "from tensorflow.keras import layers, models\n",
    "from sklearn.metrics import confusion_matrix, precision_score, recall_score, f1_score, accuracy_score\n",
    "from tensorflow.keras.datasets import cifar10\n",
    "\n",
    "# Load CIFAR10 data\n",
    "(x_train, y_train), (x_test, y_test) = cifar10.load_data()\n",
    "\n",
    "# Mapping class labels to their names\n",
    "class_names = ['airplane', 'automobile', 'bird', 'cat', 'deer', 'dog', 'frog', 'horse', 'ship', 'truck']\n"
   ]
  },
  {
   "cell_type": "markdown",
   "id": "4d1ae305",
   "metadata": {},
   "source": [
    "- **Import Libraries:** I Imported all the necessary libraries for data manipulation, visualization, model building, and evaluation.\n",
    "\n",
    "- **Load CIFAR10 Data:** This dataset consists of 60,000 32x32 color images in 10 different classes (6000 images per class).\n",
    "\n",
    "- **Class Names:** Then I created a list of class names corresponding to the labels in the CIFAR10 dataset.\n"
   ]
  },
  {
   "cell_type": "markdown",
   "id": "9b444f7b",
   "metadata": {},
   "source": [
    "# Part 3: Create Binary Labels"
   ]
  },
  {
   "cell_type": "code",
   "execution_count": 2,
   "id": "ffca77bd",
   "metadata": {},
   "outputs": [],
   "source": [
    "def create_binary_labels(y):\n",
    "    binary_labels = np.isin(y, [0, 2]).astype(np.int32)\n",
    "    return binary_labels\n",
    "\n",
    "y_train_binary = create_binary_labels(y_train)\n",
    "y_test_binary = create_binary_labels(y_test)\n"
   ]
  },
  {
   "cell_type": "markdown",
   "id": "22a3bee6",
   "metadata": {},
   "source": [
    "I defined a function to create binary labels. The function checks if the label is either 0 (airplane) or 2 (bird) and assigns a 1 if true (can fly) and a 0 otherwise (cannot fly).\n"
   ]
  },
  {
   "cell_type": "markdown",
   "id": "e7503c8f",
   "metadata": {},
   "source": [
    "# Part 4: Normalize the Data"
   ]
  },
  {
   "cell_type": "code",
   "execution_count": 3,
   "id": "84ca66e9",
   "metadata": {},
   "outputs": [],
   "source": [
    "x_train = x_train / 255.0\n",
    "x_test = x_test / 255.0\n"
   ]
  },
  {
   "cell_type": "markdown",
   "id": "50192e53",
   "metadata": {},
   "source": [
    "Then I normalized the pixel values of the images to the range [0, 1] by dividing by 255. This helps in faster convergence during training."
   ]
  },
  {
   "cell_type": "markdown",
   "id": "129a0dd6",
   "metadata": {},
   "source": [
    "# Part 5: Build the CNN Model"
   ]
  },
  {
   "cell_type": "code",
   "execution_count": 4,
   "id": "a295c4d0",
   "metadata": {},
   "outputs": [
    {
     "name": "stderr",
     "output_type": "stream",
     "text": [
      "/Users/raniabouaddi/miniconda3/lib/python3.11/site-packages/keras/src/layers/convolutional/base_conv.py:107: UserWarning: Do not pass an `input_shape`/`input_dim` argument to a layer. When using Sequential models, prefer using an `Input(shape)` object as the first layer in the model instead.\n",
      "  super().__init__(activity_regularizer=activity_regularizer, **kwargs)\n"
     ]
    }
   ],
   "source": [
    "model = models.Sequential([\n",
    "    layers.Conv2D(32, (3, 3), activation='relu', input_shape=(32, 32, 3)),\n",
    "    layers.MaxPooling2D((2, 2)),\n",
    "    layers.Conv2D(64, (3, 3), activation='relu'),\n",
    "    layers.MaxPooling2D((2, 2)),\n",
    "    layers.Conv2D(64, (3, 3), activation='relu'),\n",
    "    layers.Flatten(),\n",
    "    layers.Dense(64, activation='relu'),\n",
    "    layers.Dense(1, activation='sigmoid')  # Binary classification\n",
    "])\n",
    "\n",
    "model.compile(optimizer='adam',\n",
    "              loss='binary_crossentropy',\n",
    "              metrics=['accuracy'])\n"
   ]
  },
  {
   "cell_type": "markdown",
   "id": "c76123a4",
   "metadata": {},
   "source": [
    "I Used **the Sequential API** from Keras to define a Convolutional Neural Network (CNN) with several layers:\n",
    "\n",
    "   - **Conv2D Layers:** Convolutional layers with 32 and 64 filters, a 3x3 kernel size, and ReLU activation function.\n",
    "   \n",
    "   - **MaxPooling2D Layers:** Max-pooling layers to reduce the spatial dimensions of the feature maps.\n",
    "   \n",
    "   - **Flatten Layer:** Flattens the output from the convolutional layers to a 1D array.\n",
    "   \n",
    "   - **Dense Layers:** Fully connected layers, with the final layer having a single neuron and sigmoid activation for binary classification.\n",
    "   \n",
    "Then I compiled the model using the Adam optimizer, binary cross-entropy loss, and accuracy as a metric."
   ]
  },
  {
   "cell_type": "markdown",
   "id": "aa9da276",
   "metadata": {},
   "source": [
    "# Part 6: Train the Model"
   ]
  },
  {
   "cell_type": "code",
   "execution_count": 5,
   "id": "c7d94b54",
   "metadata": {},
   "outputs": [
    {
     "name": "stdout",
     "output_type": "stream",
     "text": [
      "Epoch 1/10\n",
      "\u001b[1m1563/1563\u001b[0m \u001b[32m━━━━━━━━━━━━━━━━━━━━\u001b[0m\u001b[37m\u001b[0m \u001b[1m57s\u001b[0m 34ms/step - accuracy: 0.8217 - loss: 0.4327 - val_accuracy: 0.8511 - val_loss: 0.3616\n",
      "Epoch 2/10\n",
      "\u001b[1m1563/1563\u001b[0m \u001b[32m━━━━━━━━━━━━━━━━━━━━\u001b[0m\u001b[37m\u001b[0m \u001b[1m49s\u001b[0m 32ms/step - accuracy: 0.8610 - loss: 0.3360 - val_accuracy: 0.8759 - val_loss: 0.3143\n",
      "Epoch 3/10\n",
      "\u001b[1m1563/1563\u001b[0m \u001b[32m━━━━━━━━━━━━━━━━━━━━\u001b[0m\u001b[37m\u001b[0m \u001b[1m49s\u001b[0m 31ms/step - accuracy: 0.8770 - loss: 0.3036 - val_accuracy: 0.8786 - val_loss: 0.3022\n",
      "Epoch 4/10\n",
      "\u001b[1m1563/1563\u001b[0m \u001b[32m━━━━━━━━━━━━━━━━━━━━\u001b[0m\u001b[37m\u001b[0m \u001b[1m50s\u001b[0m 32ms/step - accuracy: 0.8902 - loss: 0.2738 - val_accuracy: 0.8771 - val_loss: 0.2979\n",
      "Epoch 5/10\n",
      "\u001b[1m1563/1563\u001b[0m \u001b[32m━━━━━━━━━━━━━━━━━━━━\u001b[0m\u001b[37m\u001b[0m \u001b[1m50s\u001b[0m 32ms/step - accuracy: 0.9018 - loss: 0.2443 - val_accuracy: 0.8826 - val_loss: 0.3212\n",
      "Epoch 6/10\n",
      "\u001b[1m1563/1563\u001b[0m \u001b[32m━━━━━━━━━━━━━━━━━━━━\u001b[0m\u001b[37m\u001b[0m \u001b[1m50s\u001b[0m 32ms/step - accuracy: 0.9096 - loss: 0.2238 - val_accuracy: 0.8718 - val_loss: 0.3101\n",
      "Epoch 7/10\n",
      "\u001b[1m1563/1563\u001b[0m \u001b[32m━━━━━━━━━━━━━━━━━━━━\u001b[0m\u001b[37m\u001b[0m \u001b[1m65s\u001b[0m 42ms/step - accuracy: 0.9182 - loss: 0.2071 - val_accuracy: 0.8895 - val_loss: 0.2888\n",
      "Epoch 8/10\n",
      "\u001b[1m1563/1563\u001b[0m \u001b[32m━━━━━━━━━━━━━━━━━━━━\u001b[0m\u001b[37m\u001b[0m \u001b[1m64s\u001b[0m 41ms/step - accuracy: 0.9260 - loss: 0.1822 - val_accuracy: 0.8936 - val_loss: 0.2932\n",
      "Epoch 9/10\n",
      "\u001b[1m1563/1563\u001b[0m \u001b[32m━━━━━━━━━━━━━━━━━━━━\u001b[0m\u001b[37m\u001b[0m \u001b[1m80s\u001b[0m 51ms/step - accuracy: 0.9358 - loss: 0.1622 - val_accuracy: 0.8795 - val_loss: 0.3221\n",
      "Epoch 10/10\n",
      "\u001b[1m1563/1563\u001b[0m \u001b[32m━━━━━━━━━━━━━━━━━━━━\u001b[0m\u001b[37m\u001b[0m \u001b[1m51s\u001b[0m 32ms/step - accuracy: 0.9442 - loss: 0.1440 - val_accuracy: 0.8909 - val_loss: 0.3012\n"
     ]
    }
   ],
   "source": [
    "history = model.fit(x_train, y_train_binary, epochs=10, validation_data=(x_test, y_test_binary))\n"
   ]
  },
  {
   "cell_type": "markdown",
   "id": "1e1d99f6",
   "metadata": {},
   "source": [
    "I trained the model for **10 epochs** using the training data. Then I validated it on the test data after each epoch.\n"
   ]
  },
  {
   "cell_type": "markdown",
   "id": "40a60ab0",
   "metadata": {},
   "source": [
    "# Part 7: Evaluate the Model"
   ]
  },
  {
   "cell_type": "code",
   "execution_count": 6,
   "id": "9f81c8dc",
   "metadata": {},
   "outputs": [
    {
     "name": "stdout",
     "output_type": "stream",
     "text": [
      "\u001b[1m313/313\u001b[0m \u001b[32m━━━━━━━━━━━━━━━━━━━━\u001b[0m\u001b[37m\u001b[0m \u001b[1m3s\u001b[0m 9ms/step\n",
      "Precision: 0.7563451776649747\n",
      "Recall: 0.6705\n",
      "F1 Score: 0.7108401802279354\n",
      "Accuracy: 0.8909\n"
     ]
    }
   ],
   "source": [
    "y_pred_probs = model.predict(x_test)\n",
    "y_pred = (y_pred_probs > 0.5).astype(\"int32\")\n",
    "\n",
    "precision = precision_score(y_test_binary, y_pred)\n",
    "recall = recall_score(y_test_binary, y_pred)\n",
    "f1 = f1_score(y_test_binary, y_pred)\n",
    "accuracy = accuracy_score(y_test_binary, y_pred)\n",
    "\n",
    "print(f'Precision: {precision}')\n",
    "print(f'Recall: {recall}')\n",
    "print(f'F1 Score: {f1}')\n",
    "print(f'Accuracy: {accuracy}')\n"
   ]
  },
  {
   "cell_type": "markdown",
   "id": "f4036cdf",
   "metadata": {},
   "source": [
    "After training, I evaluated the model by predicting test image probabilities for the \"can fly\" category, converting these to binary using a 0.5 threshold. Then I calculate and print precision, recall, F1 score, and accuracy to assess performance."
   ]
  },
  {
   "cell_type": "markdown",
   "id": "b5b812a4",
   "metadata": {},
   "source": [
    "# Part 8: Plot the Confusion Matrix"
   ]
  },
  {
   "cell_type": "code",
   "execution_count": 7,
   "id": "f39c535e",
   "metadata": {},
   "outputs": [
    {
     "data": {
      "image/png": "[encoded data removed]",
      "text/plain": [
       "<Figure size 640x480 with 2 Axes>"
      ]
     },
     "metadata": {},
     "output_type": "display_data"
    }
   ],
   "source": [
    "conf_matrix = confusion_matrix(y_test_binary, y_pred)\n",
    "sns.heatmap(conf_matrix, annot=True, fmt='d', cmap='Blues', xticklabels=['Cannot Fly', 'Can Fly'], yticklabels=['Cannot Fly', 'Can Fly'])\n",
    "plt.xlabel('Predicted')\n",
    "plt.ylabel('True')\n",
    "plt.title('Confusion Matrix')\n",
    "plt.show()\n"
   ]
  },
  {
   "cell_type": "markdown",
   "id": "572850ad",
   "metadata": {},
   "source": [
    "Finally, to evaluate the classification model's performance, I calculated the confusion matrix. I then used Seaborn to plot this matrix for better visualization, labeling the axes and providing a title for clarity."
   ]
  },
  {
   "cell_type": "code",
   "execution_count": null,
   "id": "91930394",
   "metadata": {},
   "outputs": [],
   "source": []
  }
 ],
 "metadata": {
  "kernelspec": {
   "display_name": "Python (TensorFlow)",
   "language": "python",
   "name": "tensorflow_env"
  },
  "language_info": {
   "codemirror_mode": {
    "name": "ipython",
    "version": 3
   },
   "file_extension": ".py",
   "mimetype": "text/x-python",
   "name": "python",
   "nbconvert_exporter": "python",
   "pygments_lexer": "ipython3",
   "version": "3.11.5"
  }
 },
 "nbformat": 4,
 "nbformat_minor": 5
}
